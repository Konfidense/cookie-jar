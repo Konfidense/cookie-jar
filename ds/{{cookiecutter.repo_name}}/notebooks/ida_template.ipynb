{
 "cells": [
  {
   "cell_type": "markdown",
   "id": "d0a98296-2fc7-45b5-afbe-5c1eb9a8a4b1",
   "metadata": {},
   "source": [
    "# VENDOR DATA - Initial Data Analysis"
   ]
  },
  {
   "cell_type": "code",
   "execution_count": 1,
   "id": "44b0132f-66b6-4fa5-a287-1aeee7757a39",
   "metadata": {},
   "outputs": [],
   "source": [
    "# NOTE: all lower-case with underscores instead of spaces\n",
    "VENDOR = \"fill_in_vendor\"\n",
    "DATA = \"fill_in_data\""
   ]
  },
  {
   "cell_type": "code",
   "execution_count": 3,
   "id": "3d37bea9-3284-411a-b2c5-c30eb1a0d590",
   "metadata": {},
   "outputs": [],
   "source": [
    "import re\n",
    "import pandas as pd\n",
    "import matplotlib.pyplot as plt\n",
    "import numpy as np\n",
    "pd.set_option(\"display.max_rows\", 200)\n",
    "plt.style.use(\"ggplot\")"
   ]
  },
  {
   "cell_type": "markdown",
   "id": "2d56b2fb-1baa-4a9a-80a0-80d76ba21b6e",
   "metadata": {},
   "source": [
    "## Helper Functions"
   ]
  },
  {
   "cell_type": "code",
   "execution_count": 4,
   "id": "22468907-858b-433d-9544-81fe437346ea",
   "metadata": {},
   "outputs": [],
   "source": [
    "def date_summary(df: pd.DataFrame) -> pd.DataFrame:\n",
    "    return pd.DataFrame({\n",
    "        \"min\": df.select_dtypes(include=np.datetime64).min(),\n",
    "        \"median\": df.select_dtypes(include=np.datetime64).median(),\n",
    "        \"max\": df.select_dtypes(include=np.datetime64).max(),\n",
    "    })\n",
    "\n",
    "re_underscores = re.compile(\"_+\")\n",
    "def sanitize_columns(colname: str) -> str:\n",
    "    s = (\n",
    "        colname.lower()\n",
    "        .replace(\" \", \"_\")\n",
    "        .replace(\"#\", \"no\")\n",
    "        .replace(\".\", \"_\")\n",
    "        .replace(\"%\", \"pct\")\n",
    "        .replace(\"/\", \"\")\n",
    "    )\n",
    "    return re_underscores.sub(\"_\", s)\n",
    "\n",
    "def print_pandas_schema(df: pd.DataFrame, name: str) -> None:\n",
    "    print(\"schema_\" + name + \"_v1 = {\")\n",
    "    for n, t in zip(df.dtypes.index, df.dtypes.values):\n",
    "        if t == \"bool\" or t == \"object\":\n",
    "            print(f\"    '{n}': {t},\")\n",
    "        else:\n",
    "            print(f\"    '{n}': np.{t},\")\n",
    "    print(\"}\")\n",
    "\n",
    "def print_sql_schema(df: pd.DataFrame, name: str) -> None:\n",
    "    print(f\"CREATE TABLE IF NOT EXISTS {name}_tbl(\")\n",
    "    for c in df.columns:\n",
    "        sanitized_c = sanitize_columns(c)\n",
    "        if df[c].dtype == np.float64:\n",
    "            print(f\"   {sanitized_c}  NUMERIC\")\n",
    "        else:\n",
    "            max_len = df[c].apply(lambda x: len(str(x))).max()\n",
    "            print(f\"   {sanitized_c}  VARCHAR({max_len}),\")\n",
    "    print(\");\")\n",
    "\n",
    "def attribute_cardinality(df: pd.DataFrame) -> None:\n",
    "    for c in df.columns:\n",
    "        if df[c].dtype == \"object\":\n",
    "            print(df[c].fillna(\"\").value_counts().sort_values(ascending=False)[:5])\n",
    "        else:\n",
    "            print(f\"{c}  min: {df[c].min()}  median: {df[c].median()}  max: {df[c].max()}\")\n",
    "            print(f\"null count:  {df[c].isna().sum()}  out of {df[c].shape[0]} unique records\")\n",
    "        print()\n",
    "        print()\n",
    "\n",
    "def hbar_category(df: pd.DataFrame, category: str, save_path: str) -> None:\n",
    "    plt.clf()\n",
    "    fig = plt.gcf()\n",
    "    fig.set_size_inches(8, 4)\n",
    "    make_df = df[category].value_counts().sort_values().reset_index()[:20]\n",
    "    plt.barh(make_df[category], make_df[\"count\"])\n",
    "    plt.title(f\"attribute: {category}\\nTop 20\")\n",
    "    plt.savefig(save_path)\n",
    "    plt.clf()\n",
    "\n",
    "def visualize_hbar(pd: pd.DataFrame, dirpath: str) -> None:\n",
    "    for c in df.columns:\n",
    "        sanitize_c = sanitize_columns(c)\n",
    "        try:\n",
    "            hbar_category(df, c, dirpath + f\"/{sanitize_c}_hbar.png\")\n",
    "        except:\n",
    "            pass"
   ]
  },
  {
   "cell_type": "code",
   "execution_count": 7,
   "id": "dfc275c4-9cbd-4291-ae7a-7468d14372c8",
   "metadata": {},
   "outputs": [
    {
     "data": {
      "text/plain": [
       "['.gitkeep']"
      ]
     },
     "execution_count": 7,
     "metadata": {},
     "output_type": "execute_result"
    }
   ],
   "source": [
    "import os\n",
    "\n",
    "DATADIR = \"../data/raw\"\n",
    "INFILE = DATADIR + \"/INFILE.csv\"\n",
    "os.listdir(DATADIR)"
   ]
  },
  {
   "cell_type": "markdown",
   "id": "be3b5a4f-27d5-4d8b-bf70-4969e3998a4e",
   "metadata": {},
   "source": [
    "## 1. Load Data\n",
    "\n",
    "- 1(a). Pandas Schema\n",
    "- 1(b). Load Function"
   ]
  },
  {
   "cell_type": "code",
   "execution_count": 5,
   "id": "f261f77b-1341-4c68-855f-712c5f414420",
   "metadata": {},
   "outputs": [],
   "source": [
    "#pd.ExcelFile(INFILE).sheet_names"
   ]
  },
  {
   "cell_type": "markdown",
   "id": "0d1c6e04-1e1f-45df-8578-f97640620f9e",
   "metadata": {},
   "source": [
    "### 1(a). Pandas Schema"
   ]
  },
  {
   "cell_type": "code",
   "execution_count": 6,
   "id": "643e962d-4b0e-46ce-99e5-0c9f00b4056e",
   "metadata": {},
   "outputs": [],
   "source": [
    "# replace this cell with the output\n",
    "#print_pandas_schema(df, f\"{VENDOR}_{DATA}\")"
   ]
  },
  {
   "cell_type": "markdown",
   "id": "12812ce1-93b6-4244-b468-469ee487aff6",
   "metadata": {},
   "source": [
    "### 1(b). Load Function"
   ]
  },
  {
   "cell_type": "code",
   "execution_count": 7,
   "id": "3873dc58-84dd-4a11-94f5-fd36a7a5ec9c",
   "metadata": {},
   "outputs": [
    {
     "ename": "NameError",
     "evalue": "name 'INFILE' is not defined",
     "output_type": "error",
     "traceback": [
      "\u001b[0;31m---------------------------------------------------------------------------\u001b[0m",
      "\u001b[0;31mNameError\u001b[0m                                 Traceback (most recent call last)",
      "Cell \u001b[0;32mIn[7], line 13\u001b[0m\n\u001b[1;32m     10\u001b[0m     df \u001b[38;5;241m=\u001b[39m pd\u001b[38;5;241m.\u001b[39mread_csv(infile_path)\n\u001b[1;32m     11\u001b[0m     \u001b[38;5;28;01mreturn\u001b[39;00m df\u001b[38;5;241m.\u001b[39mdrop_duplicates()\n\u001b[0;32m---> 13\u001b[0m df \u001b[38;5;241m=\u001b[39m load_VENDOR_DATA(\u001b[43mINFILE\u001b[49m)\n\u001b[1;32m     14\u001b[0m \u001b[38;5;28mprint\u001b[39m(df\u001b[38;5;241m.\u001b[39mcolumns)\n\u001b[1;32m     15\u001b[0m df\u001b[38;5;241m.\u001b[39mcolumns \u001b[38;5;241m=\u001b[39m [sanitize_columns(c) \u001b[38;5;28;01mfor\u001b[39;00m c \u001b[38;5;129;01min\u001b[39;00m df\u001b[38;5;241m.\u001b[39mcolumns]\n",
      "\u001b[0;31mNameError\u001b[0m: name 'INFILE' is not defined"
     ]
    }
   ],
   "source": [
    "date_cols = [\n",
    "]\n",
    "\n",
    "# NOTE: rename this function and it's invocation at the bottom of this cell\n",
    "def load_data(\n",
    "    infile_path: str,\n",
    "    schema: dict[str, any] | None = None,\n",
    "    date_cols: list[str] | None = None\n",
    ") -> pd.DataFrame:\n",
    "    df = pd.read_csv(infile_path)\n",
    "    return df.drop_duplicates()\n",
    "\n",
    "df = load_data(INFILE)\n",
    "print(df.columns)\n",
    "df.columns = [sanitize_columns(c) for c in df.columns]"
   ]
  },
  {
   "cell_type": "markdown",
   "id": "f4ad3173-1ab0-4b02-90c6-22ea760f0d8a",
   "metadata": {},
   "source": [
    "## 2. Attribute Cardinality\n",
    "\n",
    "- 2(a). Pivot Table Cardinality"
   ]
  },
  {
   "cell_type": "markdown",
   "id": "538ef1e8-3738-4664-b5e4-d43a1341b68d",
   "metadata": {},
   "source": [
    "### 2(a). Pivot Table Cardinality"
   ]
  },
  {
   "cell_type": "code",
   "execution_count": 10,
   "id": "cee48efd-a821-4012-a0e0-58ff8af53ba6",
   "metadata": {},
   "outputs": [
    {
     "name": "stdout",
     "output_type": "stream",
     "text": [
      "################################################################################\n"
     ]
    },
    {
     "ename": "NameError",
     "evalue": "name 'df' is not defined",
     "output_type": "error",
     "traceback": [
      "\u001b[0;31m---------------------------------------------------------------------------\u001b[0m",
      "\u001b[0;31mNameError\u001b[0m                                 Traceback (most recent call last)",
      "Cell \u001b[0;32mIn[10], line 4\u001b[0m\n\u001b[1;32m      1\u001b[0m null_cols \u001b[38;5;241m=\u001b[39m [\n\u001b[1;32m      2\u001b[0m ]\n\u001b[1;32m      3\u001b[0m \u001b[38;5;28mprint\u001b[39m(\u001b[38;5;124m\"\u001b[39m\u001b[38;5;124m#\u001b[39m\u001b[38;5;124m\"\u001b[39m \u001b[38;5;241m*\u001b[39m \u001b[38;5;241m80\u001b[39m)\n\u001b[0;32m----> 4\u001b[0m \u001b[38;5;28mprint\u001b[39m(\u001b[38;5;124mf\u001b[39m\u001b[38;5;124m\"\u001b[39m\u001b[38;5;124mColumns:  \u001b[39m\u001b[38;5;132;01m{\u001b[39;00m\u001b[43mdf\u001b[49m\u001b[38;5;241m.\u001b[39mshape[\u001b[38;5;241m1\u001b[39m]\u001b[38;5;132;01m}\u001b[39;00m\u001b[38;5;124m,  Columns with data: \u001b[39m\u001b[38;5;132;01m{\u001b[39;00mdf\u001b[38;5;241m.\u001b[39mdrop(null_cols,\u001b[38;5;250m \u001b[39maxis\u001b[38;5;241m=\u001b[39m\u001b[38;5;241m1\u001b[39m)\u001b[38;5;241m.\u001b[39mshape[\u001b[38;5;241m1\u001b[39m]\u001b[38;5;132;01m}\u001b[39;00m\u001b[38;5;124m,  Total Unqiue Records: \u001b[39m\u001b[38;5;132;01m{\u001b[39;00mdf\u001b[38;5;241m.\u001b[39mshape[\u001b[38;5;241m0\u001b[39m]\u001b[38;5;132;01m}\u001b[39;00m\u001b[38;5;124m\"\u001b[39m)\n\u001b[1;32m      5\u001b[0m \u001b[38;5;28mprint\u001b[39m(\u001b[38;5;124m\"\u001b[39m\u001b[38;5;124m#\u001b[39m\u001b[38;5;124m\"\u001b[39m \u001b[38;5;241m*\u001b[39m \u001b[38;5;241m80\u001b[39m)\n\u001b[1;32m      6\u001b[0m \u001b[38;5;28mprint\u001b[39m()\n",
      "\u001b[0;31mNameError\u001b[0m: name 'df' is not defined"
     ]
    }
   ],
   "source": [
    "null_cols = [\n",
    "]\n",
    "print(\"#\" * 80)\n",
    "print(f\"Columns:  {df.shape[1]},  Columns with data: {df.drop(null_cols, axis=1).shape[1]},  Total Unqiue Records: {df.shape[0]}\")\n",
    "print(\"#\" * 80)\n",
    "print()\n",
    "attribute_cardinality(df.drop(null_cols, axis=1))"
   ]
  },
  {
   "cell_type": "markdown",
   "id": "00a049ac-7c66-4d5f-a65d-c44acdd46ffa",
   "metadata": {},
   "source": [
    "### 2(b). Create Figures"
   ]
  },
  {
   "cell_type": "code",
   "execution_count": 19,
   "id": "3ee7c1be-acdf-444e-9896-0e1264a08bfe",
   "metadata": {},
   "outputs": [
    {
     "ename": "NameError",
     "evalue": "name 'visualize_hbar' is not defined",
     "output_type": "error",
     "traceback": [
      "\u001b[0;31m---------------------------------------------------------------------------\u001b[0m",
      "\u001b[0;31mNameError\u001b[0m                                 Traceback (most recent call last)",
      "Cell \u001b[0;32mIn[19], line 1\u001b[0m\n\u001b[0;32m----> 1\u001b[0m \u001b[43mvisualize_hbar\u001b[49m(df, \u001b[38;5;124m\"\u001b[39m\u001b[38;5;124m../reports/figures/\u001b[39m\u001b[38;5;124m\"\u001b[39m)\n",
      "\u001b[0;31mNameError\u001b[0m: name 'visualize_hbar' is not defined"
     ]
    }
   ],
   "source": [
    "visualize_hbar(df, \"../reports/figures/\")"
   ]
  },
  {
   "cell_type": "markdown",
   "id": "123df4ba-9c0c-4bd1-93f3-801636aff602",
   "metadata": {},
   "source": [
    "### 2(c). Date Pivot Table"
   ]
  },
  {
   "cell_type": "code",
   "execution_count": 8,
   "id": "0fceade5-345f-4a35-b132-c2768045bd65",
   "metadata": {},
   "outputs": [
    {
     "ename": "NameError",
     "evalue": "name 'df' is not defined",
     "output_type": "error",
     "traceback": [
      "\u001b[0;31m---------------------------------------------------------------------------\u001b[0m",
      "\u001b[0;31mNameError\u001b[0m                                 Traceback (most recent call last)",
      "Cell \u001b[0;32mIn[8], line 1\u001b[0m\n\u001b[0;32m----> 1\u001b[0m date_summary(\u001b[43mdf\u001b[49m)\n",
      "\u001b[0;31mNameError\u001b[0m: name 'df' is not defined"
     ]
    }
   ],
   "source": [
    "date_summary(df)"
   ]
  },
  {
   "cell_type": "markdown",
   "id": "8403d72d-6069-48ba-b5b4-f66d5a7a98c5",
   "metadata": {},
   "source": [
    "## 3. Classify Columns into NOIR and Identify Keys\n",
    "\n",
    "- numerical\n",
    "- ordinal\n",
    "- interval\n",
    "- ratio"
   ]
  },
  {
   "cell_type": "code",
   "execution_count": 14,
   "id": "c76127e9-af4e-4657-b8f8-8b1a062f8c59",
   "metadata": {},
   "outputs": [],
   "source": [
    "key_col = [\n",
    "]\n",
    "\n",
    "nominal_col = [\n",
    "]\n",
    "ordinal_col = []\n",
    "interval_col = [\n",
    "]\n",
    "ratio_col = [\n",
    "]"
   ]
  },
  {
   "cell_type": "markdown",
   "id": "eada2d72-bca0-440f-9f74-74c05bc81fcd",
   "metadata": {},
   "source": [
    "## 4. Generate SQL DDL"
   ]
  },
  {
   "cell_type": "code",
   "execution_count": 20,
   "id": "6c7238d1-7a49-427b-9e43-99e8a44a6909",
   "metadata": {},
   "outputs": [
    {
     "ename": "NameError",
     "evalue": "name 'print_sql_schema' is not defined",
     "output_type": "error",
     "traceback": [
      "\u001b[0;31m---------------------------------------------------------------------------\u001b[0m",
      "\u001b[0;31mNameError\u001b[0m                                 Traceback (most recent call last)",
      "Cell \u001b[0;32mIn[20], line 1\u001b[0m\n\u001b[0;32m----> 1\u001b[0m \u001b[43mprint_sql_schema\u001b[49m(df, \u001b[38;5;124mf\u001b[39m\u001b[38;5;124m\"\u001b[39m\u001b[38;5;132;01m{\u001b[39;00mVENDOR\u001b[38;5;132;01m}\u001b[39;00m\u001b[38;5;124m_\u001b[39m\u001b[38;5;132;01m{\u001b[39;00mDATA\u001b[38;5;132;01m}\u001b[39;00m\u001b[38;5;124m\"\u001b[39m)\n",
      "\u001b[0;31mNameError\u001b[0m: name 'print_sql_schema' is not defined"
     ]
    }
   ],
   "source": [
    "print_sql_schema(df, f\"{VENDOR}_{DATA}\")"
   ]
  },
  {
   "cell_type": "code",
   "execution_count": null,
   "id": "9135be0c-510b-46c1-a5f9-ab11dc345f21",
   "metadata": {},
   "outputs": [],
   "source": []
  }
 ],
 "metadata": {
  "kernelspec": {
   "display_name": "Python 3 (ipykernel)",
   "language": "python",
   "name": "python3"
  },
  "language_info": {
   "codemirror_mode": {
    "name": "ipython",
    "version": 3
   },
   "file_extension": ".py",
   "mimetype": "text/x-python",
   "name": "python",
   "nbconvert_exporter": "python",
   "pygments_lexer": "ipython3",
   "version": "3.12.0"
  }
 },
 "nbformat": 4,
 "nbformat_minor": 5
}
